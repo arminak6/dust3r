{
  "nbformat": 4,
  "nbformat_minor": 0,
  "metadata": {
    "colab": {
      "provenance": [],
      "gpuType": "T4"
    },
    "kernelspec": {
      "name": "python3",
      "display_name": "Python 3"
    },
    "language_info": {
      "name": "python"
    },
    "accelerator": "GPU"
  },
  "cells": [
    {
      "cell_type": "markdown",
      "source": [
        "### Setup environment"
      ],
      "metadata": {
        "id": "YcKc8kvI2cIL"
      }
    },
    {
      "cell_type": "code",
      "source": [
        "from google.colab.output import eval_js\n",
        "eval_js('google.colab.output.setIframeHeight(\"250\")')\n",
        "import os\n",
        "\n",
        "#Clone Repo\n",
        "%cd /content\n",
        "!git clone --recursive https://github.com/naver/dust3r\n",
        "%cd /content/dust3r\n",
        "!git checkout 88a43b939ebced21c069dd9df9e9e463324b7f5f\n",
        "\n",
        "#Setup Environment\n",
        "!pip install -r requirements.txt\n",
        "\n",
        "if not os.path.exists('checkpoints'):\n",
        "    #Download weights\n",
        "    !mkdir -p checkpoints/\n",
        "    !wget https://download.europe.naverlabs.com/ComputerVision/DUSt3R/DUSt3R_ViTLarge_BaseDecoder_512_dpt.pth -P checkpoints/"
      ],
      "metadata": {
        "id": "gOTQY5p43Yfn"
      },
      "execution_count": null,
      "outputs": []
    },
    {
      "cell_type": "markdown",
      "source": [
        "### Run **demo**"
      ],
      "metadata": {
        "id": "hq5WJpS_3y52"
      }
    },
    {
      "cell_type": "code",
      "source": [
        "%cd /content/dust3r\n",
        "\n",
        "!sed -i 's/parser.add_argument(\"--weights\", type=str, required=True, help=\"path to the model weights\")/parser.add_argument(\"--weights\", type=str, default='\"'\"'\\/content\\/dust3r\\/checkpoints\\/DUSt3R_ViTLarge_BaseDecoder_512_dpt.pth'\"'\"', help=\"path to the model weights\")/' demo.py\n",
        "!sed -i 's/demo.launch(share=False, server_name=server_name, server_port=server_port)/demo.launch(inline=True, debug=True)/' demo.py\n",
        "\n",
        "from demo import *\n",
        "\n",
        "#Dirty'n'quick trick to allow parse_args to work in colab cell without exploding\n",
        "import sys; sys.argv = sys.argv[2:]\n",
        "\n",
        "parser = get_args_parser()\n",
        "args = parser.parse_args()\n",
        "\n",
        "if args.tmp_dir is not None:\n",
        "    tmp_path = args.tmp_dir\n",
        "    os.makedirs(tmp_path, exist_ok=True)\n",
        "    tempfile.tempdir = tmp_path\n",
        "\n",
        "if args.server_name is not None:\n",
        "    server_name = args.server_name\n",
        "else:\n",
        "    server_name = '0.0.0.0' if args.local_network else '127.0.0.1'\n",
        "\n",
        "model = load_model(args.weights, args.device)\n",
        "# dust3r will write the 3D model inside tmpdirname\n",
        "with tempfile.TemporaryDirectory(suffix='dust3r_gradio_demo') as tmpdirname:\n",
        "    print('Outputing stuff in', tmpdirname)\n",
        "    main_demo(tmpdirname, model, args.device, args.image_size, server_name, args.server_port)"
      ],
      "metadata": {
        "id": "UL5Ughp630Jz"
      },
      "execution_count": null,
      "outputs": []
    },
    {
      "cell_type": "markdown",
      "source": [
        "### OR if you want to use only CPU"
      ],
      "metadata": {
        "id": "iIxtaR6P4tEZ"
      }
    },
    {
      "cell_type": "code",
      "source": [
        "\n",
        "!git clone -b dev --recursive https://github.com/camenduru/dust3r\n",
        "\n",
        "\n",
        "!pip install -q roma gradio einops trimesh\n",
        "!pip install -q https://github.com/camenduru/wheels/releases/download/colab/curope-0.0.0-cp310-cp310-linux_x86_64.whl\n",
        "\n",
        "!mkdir -p /content/dust3r/checkpoints\n",
        "!wget https://huggingface.co/camenduru/dust3r/resolve/main/DUSt3R_ViTLarge_BaseDecoder_512_dpt.pth -P /content/dust3r/checkpoints"
      ],
      "metadata": {
        "id": "EzqUB1aG40s7"
      },
      "execution_count": null,
      "outputs": []
    },
    {
      "cell_type": "code",
      "source": [
        "!python /content/dust3r/demo.py --weights /content/dust3r/checkpoints/DUSt3R_ViTLarge_BaseDecoder_512_dpt.pth --tmp_dir /content/tmp"
      ],
      "metadata": {
        "id": "ylJzKJbE46SW"
      },
      "execution_count": null,
      "outputs": []
    }
  ]
}